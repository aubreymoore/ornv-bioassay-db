{
 "cells": [
  {
   "cell_type": "code",
   "execution_count": 3,
   "id": "ac590c01-47ad-47f6-9119-5b10cf3cc949",
   "metadata": {},
   "outputs": [],
   "source": [
    "import rpy2"
   ]
  },
  {
   "cell_type": "code",
   "execution_count": 26,
   "id": "5362a41b-b887-4707-bf13-b684c71dc5d1",
   "metadata": {},
   "outputs": [
    {
     "name": "stdout",
     "output_type": "stream",
     "text": [
      "p-value: 0.03206318918462897\n"
     ]
    }
   ],
   "source": [
    "import numpy as np\n",
    "import rpy2.robjects.numpy2ri\n",
    "from rpy2.robjects.packages import importr\n",
    "rpy2.robjects.numpy2ri.activate()\n",
    "\n",
    "stats = importr('stats')\n",
    "reporttools = importr('reporttools')\n",
    "\n",
    "\n",
    "m = np.array([[4,4],[4,5],[12,1]])\n",
    "res = stats.fisher_test(m)\n",
    "print('p-value: {}'.format(res[0][0]))"
   ]
  },
  {
   "cell_type": "code",
   "execution_count": 27,
   "id": "72518f4e-1b43-481a-b420-6ce9176621e5",
   "metadata": {},
   "outputs": [
    {
     "data": {
      "text/plain": [
       "array([[ 4,  4],\n",
       "       [ 4,  5],\n",
       "       [12,  1]])"
      ]
     },
     "execution_count": 27,
     "metadata": {},
     "output_type": "execute_result"
    }
   ],
   "source": [
    "m"
   ]
  },
  {
   "cell_type": "code",
   "execution_count": 29,
   "id": "fc5e8bac-d1a4-480f-b13e-27a10173718b",
   "metadata": {},
   "outputs": [
    {
     "data": {
      "text/plain": [
       "\u001b[0;31mSignature:\u001b[0m       \u001b[0mreporttools\u001b[0m\u001b[0;34m.\u001b[0m\u001b[0mpairwise_fisher_test\u001b[0m\u001b[0;34m(\u001b[0m\u001b[0;34m*\u001b[0m\u001b[0margs\u001b[0m\u001b[0;34m,\u001b[0m \u001b[0;34m**\u001b[0m\u001b[0mkwargs\u001b[0m\u001b[0;34m)\u001b[0m\u001b[0;34m\u001b[0m\u001b[0;34m\u001b[0m\u001b[0m\n",
       "\u001b[0;31mType:\u001b[0m            DocumentedSTFunction\n",
       "\u001b[0;31mString form:\u001b[0m    \n",
       "function (x, g, p.adjust.method, ...)\n",
       "           {\n",
       "           DNAME <- paste(deparse(substitute(x)), \"and\", depars <...> <- \"pairwise.htest\"\n",
       "           return(ans)\n",
       "           }\n",
       "           <bytecode: 0x85890b8>\n",
       "           <environment: namespace:reporttools>\n",
       "           \n",
       "\u001b[0;31mFile:\u001b[0m            ~/myenv/lib/python3.9/site-packages/rpy2/robjects/functions.py\n",
       "\u001b[0;31mDocstring:\u001b[0m      \n",
       "Wrapper around an R function.\n",
       "\n",
       "The docstring below is built from the R documentation.\n",
       "\n",
       "description\n",
       "-----------\n",
       "\n",
       "Similar to  pairwise.wilcox.test  and  pairwise.t.test , calculate pairwise comparisons of a nominal variable between group levels with corrections for multiple testing. \n",
       "\n",
       "\n",
       "pairwise.fisher.test(\n",
       "    x,\n",
       "    g,\n",
       "    p_adjust_method,\n",
       "    ___ = (was \"...\"). R ellipsis (any number of parameters),\n",
       ")\n",
       "\n",
       "Args:\n",
       "   x :  Response vector, nominal (or ordinal).\n",
       "\n",
       "   g :  Grouping vector or factor.\n",
       "\n",
       "   p.adjust.method :  Method for adjusting p-values (see ‘p.adjust’).\n",
       "\n",
       "   ... :  Additional arguments to pass to ‘fisher.test’.\n",
       "\u001b[0;31mClass docstring:\u001b[0m\n",
       "Python representation of an R function, where\n",
       "the names in named argument are translated to valid\n",
       "argument names in Python. \n"
      ]
     },
     "metadata": {},
     "output_type": "display_data"
    }
   ],
   "source": [
    "reporttools.pairwise_fisher_test?"
   ]
  },
  {
   "cell_type": "code",
   "execution_count": 37,
   "id": "cdf67887-7f29-417b-b97c-0f43f2b632ea",
   "metadata": {},
   "outputs": [],
   "source": [
    "g = np.array([1,2,3])\n",
    "result = reporttools.pairwise_fisher_test(m, g, p_adjust_method='holm')"
   ]
  },
  {
   "cell_type": "code",
   "execution_count": 38,
   "id": "d8b58cff-a356-4c29-86af-e29758dbff0d",
   "metadata": {
    "tags": []
   },
   "outputs": [
    {
     "ename": "ValueError",
     "evalue": "Not an R object.",
     "output_type": "error",
     "traceback": [
      "\u001b[0;31m---------------------------------------------------------------------------\u001b[0m",
      "\u001b[0;31mValueError\u001b[0m                                Traceback (most recent call last)",
      "File \u001b[0;32m~/myenv/lib/python3.9/site-packages/IPython/core/formatters.py:342\u001b[0m, in \u001b[0;36mBaseFormatter.__call__\u001b[0;34m(self, obj)\u001b[0m\n\u001b[1;32m    340\u001b[0m     method \u001b[38;5;241m=\u001b[39m get_real_method(obj, \u001b[38;5;28mself\u001b[39m\u001b[38;5;241m.\u001b[39mprint_method)\n\u001b[1;32m    341\u001b[0m     \u001b[38;5;28;01mif\u001b[39;00m method \u001b[38;5;129;01mis\u001b[39;00m \u001b[38;5;129;01mnot\u001b[39;00m \u001b[38;5;28;01mNone\u001b[39;00m:\n\u001b[0;32m--> 342\u001b[0m         \u001b[38;5;28;01mreturn\u001b[39;00m \u001b[43mmethod\u001b[49m\u001b[43m(\u001b[49m\u001b[43m)\u001b[49m\n\u001b[1;32m    343\u001b[0m     \u001b[38;5;28;01mreturn\u001b[39;00m \u001b[38;5;28;01mNone\u001b[39;00m\n\u001b[1;32m    344\u001b[0m \u001b[38;5;28;01melse\u001b[39;00m:\n",
      "File \u001b[0;32m~/myenv/lib/python3.9/site-packages/rpy2/robjects/vectors.py:721\u001b[0m, in \u001b[0;36mListVector._repr_html_\u001b[0;34m(self, max_items)\u001b[0m\n\u001b[1;32m    719\u001b[0m names \u001b[38;5;241m=\u001b[39m \u001b[38;5;28mlist\u001b[39m()\n\u001b[1;32m    720\u001b[0m rnames \u001b[38;5;241m=\u001b[39m \u001b[38;5;28mself\u001b[39m\u001b[38;5;241m.\u001b[39mnames\n\u001b[0;32m--> 721\u001b[0m rnames_null \u001b[38;5;241m=\u001b[39m \u001b[43mrinterface\u001b[49m\u001b[38;5;241;43m.\u001b[39;49m\u001b[43mNULL\u001b[49m\u001b[38;5;241;43m.\u001b[39;49m\u001b[43mrsame\u001b[49m\u001b[43m(\u001b[49m\u001b[43mrnames\u001b[49m\u001b[43m)\u001b[49m\n\u001b[1;32m    722\u001b[0m \u001b[38;5;28;01mif\u001b[39;00m \u001b[38;5;28mlen\u001b[39m(\u001b[38;5;28mself\u001b[39m) \u001b[38;5;241m<\u001b[39m\u001b[38;5;241m=\u001b[39m max_items:\n\u001b[1;32m    723\u001b[0m     names\u001b[38;5;241m.\u001b[39mextend(\n\u001b[1;32m    724\u001b[0m         rnames\n\u001b[1;32m    725\u001b[0m         \u001b[38;5;28;01mif\u001b[39;00m \u001b[38;5;129;01mnot\u001b[39;00m rnames_null\n\u001b[1;32m    726\u001b[0m         \u001b[38;5;28;01melse\u001b[39;00m [\u001b[38;5;124m'\u001b[39m\u001b[38;5;124m[no name]\u001b[39m\u001b[38;5;124m'\u001b[39m] \u001b[38;5;241m*\u001b[39m \u001b[38;5;28mlen\u001b[39m(\u001b[38;5;28mself\u001b[39m)\n\u001b[1;32m    727\u001b[0m     )\n",
      "File \u001b[0;32m~/myenv/lib/python3.9/site-packages/rpy2/rinterface_lib/sexp.py:208\u001b[0m, in \u001b[0;36mSexp.rsame\u001b[0;34m(self, sexp)\u001b[0m\n\u001b[1;32m    206\u001b[0m     \u001b[38;5;28;01mreturn\u001b[39;00m sexp\u001b[38;5;241m.\u001b[39m_cdata \u001b[38;5;241m==\u001b[39m sexp\u001b[38;5;241m.\u001b[39m_cdata\n\u001b[1;32m    207\u001b[0m \u001b[38;5;28;01melse\u001b[39;00m:\n\u001b[0;32m--> 208\u001b[0m     \u001b[38;5;28;01mraise\u001b[39;00m \u001b[38;5;167;01mValueError\u001b[39;00m(\u001b[38;5;124m'\u001b[39m\u001b[38;5;124mNot an R object.\u001b[39m\u001b[38;5;124m'\u001b[39m)\n",
      "\u001b[0;31mValueError\u001b[0m: Not an R object."
     ]
    },
    {
     "data": {
      "text/plain": [
       "<rpy2.robjects.vectors.ListVector object at 0x7f8f9b29a840> [RTYPES.VECSXP]\n",
       "R classes: ('pairwise.htest',)\n",
       "[StrSexpVector, FloatSexpVector, StrSexpVector]\n",
       "  data.name: <class 'rpy2.rinterface_lib.sexp.StrSexpVector'>\n",
       "  <rpy2.rinterface_lib.sexp.StrSexpVector object at 0x7f8f9ae6fc80> [RTYPES.STRSXP]\n",
       "  p.value: <class 'rpy2.rinterface.FloatSexpVector'>\n",
       "  <rpy2.rinterface.FloatSexpVector object at 0x7f8f9b2be8c0> [RTYPES.REALSXP]\n",
       "  p.adjust.method: <class 'rpy2.rinterface_lib.sexp.StrSexpVector'>\n",
       "  <rpy2.rinterface_lib.sexp.StrSexpVector object at 0x7f8f9aeefd80> [RTYPES.STRSXP]"
      ]
     },
     "execution_count": 38,
     "metadata": {},
     "output_type": "execute_result"
    }
   ],
   "source": [
    "result"
   ]
  },
  {
   "cell_type": "code",
   "execution_count": 20,
   "id": "29a9d8bc-f0fb-4069-b780-150d9339f9b0",
   "metadata": {},
   "outputs": [
    {
     "data": {
      "text/plain": [
       "['NAtoCategory',\n",
       " 'NAtoZero',\n",
       " '___NAMESPACE___',\n",
       " '___S3MethodsTable___',\n",
       " '__doc__',\n",
       " '__loader__',\n",
       " '__name__',\n",
       " '__package__',\n",
       " '__rdata__',\n",
       " '__rname__',\n",
       " '__spec__',\n",
       " '__version__',\n",
       " '_env',\n",
       " '_exported_names',\n",
       " '_packageName',\n",
       " '_rpy2r',\n",
       " '_symbol_r2python',\n",
       " '_symbol_resolve',\n",
       " '_translation',\n",
       " 'addLineBreak',\n",
       " 'attachPresAbs',\n",
       " 'attachYesNo',\n",
       " 'checkDateSuccession',\n",
       " 'colToMat',\n",
       " 'correctVarNames',\n",
       " 'disp',\n",
       " 'displayCI',\n",
       " 'displayCoxPH',\n",
       " 'displayCrossTabs',\n",
       " 'displayKbyC',\n",
       " 'eliminateNA',\n",
       " 'formatPercent',\n",
       " 'formatPval',\n",
       " 'getFonts',\n",
       " 'math',\n",
       " 'nominalTest',\n",
       " 'pairwise_fisher_test',\n",
       " 'tableContinuous',\n",
       " 'tableDate',\n",
       " 'tableNominal',\n",
       " 'transformVarNames',\n",
       " 'transformVarNames2',\n",
       " 'twoGroupComparisons',\n",
       " 'varNamesToChar']"
      ]
     },
     "execution_count": 20,
     "metadata": {},
     "output_type": "execute_result"
    }
   ],
   "source": [
    "dir(reporttools)"
   ]
  }
 ],
 "metadata": {
  "kernelspec": {
   "display_name": "Python 3 (ipykernel)",
   "language": "python",
   "name": "python3"
  },
  "language_info": {
   "codemirror_mode": {
    "name": "ipython",
    "version": 3
   },
   "file_extension": ".py",
   "mimetype": "text/x-python",
   "name": "python",
   "nbconvert_exporter": "python",
   "pygments_lexer": "ipython3",
   "version": "3.9.5"
  }
 },
 "nbformat": 4,
 "nbformat_minor": 5
}
