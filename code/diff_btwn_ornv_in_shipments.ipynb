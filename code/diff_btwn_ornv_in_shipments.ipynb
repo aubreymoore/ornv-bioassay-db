{
 "cells": [
  {
   "cell_type": "code",
   "execution_count": 1,
   "id": "e7572051-1863-4651-9402-6c9da2e55b14",
   "metadata": {},
   "outputs": [],
   "source": [
    "import pandas as pd\n",
    "import scipy.stats as stats "
   ]
  },
  {
   "cell_type": "code",
   "execution_count": 2,
   "id": "b4a2a259-734a-4950-ae62-9c2a97901d0f",
   "metadata": {},
   "outputs": [],
   "source": [
    "df = pd.read_excel('../pcr_results/Aubrey update 21Mar23.xlsx')"
   ]
  },
  {
   "cell_type": "markdown",
   "id": "730d50cd-860d-4e69-adbe-dac387b1d38d",
   "metadata": {},
   "source": [
    "### Discovered that beetle 51 has duplicate records.\n",
    "\n",
    "<div class=\"alert-danger\">\n",
    "Decided not to correct this error.\n",
    "</div>"
   ]
  },
  {
   "cell_type": "code",
   "execution_count": 3,
   "id": "9dac5405-c340-4038-a7ed-88474debca23",
   "metadata": {},
   "outputs": [
    {
     "data": {
      "text/html": [
       "<div>\n",
       "<style scoped>\n",
       "    .dataframe tbody tr th:only-of-type {\n",
       "        vertical-align: middle;\n",
       "    }\n",
       "\n",
       "    .dataframe tbody tr th {\n",
       "        vertical-align: top;\n",
       "    }\n",
       "\n",
       "    .dataframe thead th {\n",
       "        text-align: right;\n",
       "    }\n",
       "</style>\n",
       "<table border=\"1\" class=\"dataframe\">\n",
       "  <thead>\n",
       "    <tr style=\"text-align: right;\">\n",
       "      <th></th>\n",
       "      <th>Date AgR received</th>\n",
       "      <th>Date CRB collected</th>\n",
       "      <th>Country</th>\n",
       "      <th>Site</th>\n",
       "      <th>Treatment</th>\n",
       "      <th>Sex</th>\n",
       "      <th>COI 1:100</th>\n",
       "      <th>COI RFLP (haplotype)</th>\n",
       "      <th>Multiplex (OrNV)</th>\n",
       "      <th>Virus</th>\n",
       "      <th>AgR batch label</th>\n",
       "      <th>Aubrey tube number</th>\n",
       "      <th>beetle_sn</th>\n",
       "    </tr>\n",
       "  </thead>\n",
       "  <tbody>\n",
       "    <tr>\n",
       "      <th>101</th>\n",
       "      <td>2023-10-19</td>\n",
       "      <td>2023-07-20</td>\n",
       "      <td>Guam</td>\n",
       "      <td>Leo Palace Golf Course, Guam</td>\n",
       "      <td>CONTROL</td>\n",
       "      <td>m</td>\n",
       "      <td>+</td>\n",
       "      <td>CRB-G</td>\n",
       "      <td>-</td>\n",
       "      <td>no</td>\n",
       "      <td>none</td>\n",
       "      <td>51</td>\n",
       "      <td>79</td>\n",
       "    </tr>\n",
       "    <tr>\n",
       "      <th>124</th>\n",
       "      <td>2023-11-03</td>\n",
       "      <td>2023-07-20</td>\n",
       "      <td>Guam</td>\n",
       "      <td>Leo Palace Golf Course, Guam</td>\n",
       "      <td>CONTROL</td>\n",
       "      <td>m</td>\n",
       "      <td>faint</td>\n",
       "      <td>CRB-G</td>\n",
       "      <td>-</td>\n",
       "      <td>no</td>\n",
       "      <td>GUAM 202309</td>\n",
       "      <td>51</td>\n",
       "      <td>79</td>\n",
       "    </tr>\n",
       "  </tbody>\n",
       "</table>\n",
       "</div>"
      ],
      "text/plain": [
       "    Date AgR received Date CRB collected Country  \\\n",
       "101        2023-10-19         2023-07-20    Guam   \n",
       "124        2023-11-03         2023-07-20    Guam   \n",
       "\n",
       "                             Site Treatment Sex COI 1:100  \\\n",
       "101  Leo Palace Golf Course, Guam   CONTROL   m         +   \n",
       "124  Leo Palace Golf Course, Guam   CONTROL   m     faint   \n",
       "\n",
       "    COI RFLP (haplotype) Multiplex (OrNV) Virus AgR batch label  \\\n",
       "101                CRB-G                -    no            none   \n",
       "124                CRB-G                -    no     GUAM 202309   \n",
       "\n",
       "     Aubrey tube number  beetle_sn  \n",
       "101                  51         79  \n",
       "124                  51         79  "
      ]
     },
     "execution_count": 3,
     "metadata": {},
     "output_type": "execute_result"
    }
   ],
   "source": [
    "df[df.duplicated(subset=['beetle_sn'], keep=False)]"
   ]
  },
  {
   "cell_type": "markdown",
   "id": "da725a29-5d10-445d-9377-5d42f42eee18",
   "metadata": {},
   "source": [
    "## Difference between proportion of OrNV positives in shipment 1 and 2 is highly significant \n",
    "\n",
    "||OrNV+|OrNV-|porportion positive|\n",
    "|---|---|---|---|\n",
    "|shipment 1|29   |88|25%|\n",
    "|shipment 2|0    |54|0% |\n",
    "\n",
    "p = 5.411e-06; Fisher's exact test"
   ]
  },
  {
   "cell_type": "code",
   "execution_count": 4,
   "id": "aeca19e2-5f23-43be-bccb-5e7399107680",
   "metadata": {},
   "outputs": [
    {
     "data": {
      "text/plain": [
       "0.24786324786324787"
      ]
     },
     "execution_count": 4,
     "metadata": {},
     "output_type": "execute_result"
    }
   ],
   "source": [
    "29/(29+88)"
   ]
  },
  {
   "cell_type": "code",
   "execution_count": 5,
   "id": "0f4814ec-7fd1-4fce-9ab3-d898d3e337e8",
   "metadata": {},
   "outputs": [
    {
     "data": {
      "text/plain": [
       "Date AgR received  Virus\n",
       "2023-10-19         faint     2\n",
       "                   no       88\n",
       "                   yes      27\n",
       "2023-11-03         no       54\n",
       "Name: Virus, dtype: int64"
      ]
     },
     "execution_count": 5,
     "metadata": {},
     "output_type": "execute_result"
    }
   ],
   "source": [
    "df.groupby(['Date AgR received','Virus']).Virus.count()"
   ]
  },
  {
   "cell_type": "code",
   "execution_count": 6,
   "id": "ea144e36-d788-4323-a608-1ff607b2221f",
   "metadata": {},
   "outputs": [
    {
     "name": "stdout",
     "output_type": "stream",
     "text": [
      "odd ratio is : inf\n",
      "p_value is : 5.411310925803131e-06\n"
     ]
    }
   ],
   "source": [
    "shipment1 = [29, 88]\n",
    "shipment2 = [0, 54]\n",
    "odd_ratio, p_value = stats.fisher_exact([shipment1, shipment2]) \n",
    "print('odd ratio is : ' + str(odd_ratio)) \n",
    "print('p_value is : ' + str(p_value)) "
   ]
  },
  {
   "cell_type": "markdown",
   "id": "1de6a45d-ffc5-435a-99ce-f5daaf577ab3",
   "metadata": {},
   "source": [
    "# Differences in proportions of OrNV positive beetles in shipment1"
   ]
  },
  {
   "cell_type": "code",
   "execution_count": 37,
   "id": "3e9b58ab-55b0-4f30-a1ae-047a29de634f",
   "metadata": {},
   "outputs": [
    {
     "data": {
      "text/html": [
       "<div>\n",
       "<style scoped>\n",
       "    .dataframe tbody tr th:only-of-type {\n",
       "        vertical-align: middle;\n",
       "    }\n",
       "\n",
       "    .dataframe tbody tr th {\n",
       "        vertical-align: top;\n",
       "    }\n",
       "\n",
       "    .dataframe thead th {\n",
       "        text-align: right;\n",
       "    }\n",
       "</style>\n",
       "<table border=\"1\" class=\"dataframe\">\n",
       "  <thead>\n",
       "    <tr style=\"text-align: right;\">\n",
       "      <th>Virus</th>\n",
       "      <th>no</th>\n",
       "      <th>yes</th>\n",
       "    </tr>\n",
       "    <tr>\n",
       "      <th>Treatment</th>\n",
       "      <th></th>\n",
       "      <th></th>\n",
       "    </tr>\n",
       "  </thead>\n",
       "  <tbody>\n",
       "    <tr>\n",
       "      <th>CONTROL</th>\n",
       "      <td>34</td>\n",
       "      <td>1</td>\n",
       "    </tr>\n",
       "    <tr>\n",
       "      <th>DUG42</th>\n",
       "      <td>19</td>\n",
       "      <td>10</td>\n",
       "    </tr>\n",
       "    <tr>\n",
       "      <th>PNG</th>\n",
       "      <td>12</td>\n",
       "      <td>4</td>\n",
       "    </tr>\n",
       "    <tr>\n",
       "      <th>V23B</th>\n",
       "      <td>9</td>\n",
       "      <td>10</td>\n",
       "    </tr>\n",
       "    <tr>\n",
       "      <th>X2B</th>\n",
       "      <td>13</td>\n",
       "      <td>4</td>\n",
       "    </tr>\n",
       "  </tbody>\n",
       "</table>\n",
       "</div>"
      ],
      "text/plain": [
       "Virus      no  yes\n",
       "Treatment         \n",
       "CONTROL    34    1\n",
       "DUG42      19   10\n",
       "PNG        12    4\n",
       "V23B        9   10\n",
       "X2B        13    4"
      ]
     },
     "execution_count": 37,
     "metadata": {},
     "output_type": "execute_result"
    }
   ],
   "source": [
    "df_shipment1 = df[df['Date AgR received'] == '2023-10-19'].copy()\n",
    "df_shipment1['Virus'].replace(to_replace='faint', value='yes', inplace=True)\n",
    "xtab = pd.crosstab(df_shipment1.Treatment, df_shipment1.Virus)\n",
    "xtab"
   ]
  },
  {
   "cell_type": "code",
   "execution_count": null,
   "id": "75544e63-eede-4a77-82f7-96d0b974d448",
   "metadata": {},
   "outputs": [],
   "source": []
  },
  {
   "cell_type": "code",
   "execution_count": 39,
   "id": "48ebe42c-0436-4b01-9f5e-0abefc70c8cd",
   "metadata": {},
   "outputs": [
    {
     "data": {
      "text/plain": [
       "{'no': {'CONTROL': 34, 'DUG42': 19, 'PNG': 12, 'V23B': 9, 'X2B': 13},\n",
       " 'yes': {'CONTROL': 1, 'DUG42': 10, 'PNG': 4, 'V23B': 10, 'X2B': 4}}"
      ]
     },
     "execution_count": 39,
     "metadata": {},
     "output_type": "execute_result"
    }
   ],
   "source": [
    "mydict = xtab.to_dict()\n",
    "mydict"
   ]
  },
  {
   "cell_type": "code",
   "execution_count": 48,
   "id": "388703c0-4a0c-4b22-9b6f-2c584720fb48",
   "metadata": {},
   "outputs": [
    {
     "data": {
      "text/plain": [
       "[[34, 1], [19, 10], [12, 4], [9, 10], [13, 4]]"
      ]
     },
     "execution_count": 48,
     "metadata": {},
     "output_type": "execute_result"
    }
   ],
   "source": [
    "mylist = []\n",
    "treatments = ['CONTROL','DUG42','PNG','V23B','X2B']\n",
    "for treatment in treatments:\n",
    "    mylist.append([mydict['no'][treatment], mydict['yes'][treatment]])\n",
    "mylist                                                         "
   ]
  },
  {
   "cell_type": "code",
   "execution_count": 49,
   "id": "ff195d8e-81e8-42e2-b150-10fc737d19db",
   "metadata": {},
   "outputs": [
    {
     "name": "stdout",
     "output_type": "stream",
     "text": [
      "p-value: 0.00028623328767403015\n"
     ]
    }
   ],
   "source": [
    "import numpy as np\n",
    "import rpy2.robjects.numpy2ri\n",
    "from rpy2.robjects.packages import importr\n",
    "rpy2.robjects.numpy2ri.activate()\n",
    "\n",
    "stats = importr('stats')\n",
    "# m = np.array([[4,4],[4,5],[10,6]])\n",
    "m = np.array(mylist)\n",
    "res = stats.fisher_test(m)\n",
    "print(f'p-value: {res[0][0]}')"
   ]
  },
  {
   "cell_type": "markdown",
   "id": "b53a009a-c591-41d7-9735-00feca540849",
   "metadata": {},
   "source": [
    "## Marascuillo post hoc test"
   ]
  },
  {
   "cell_type": "code",
   "execution_count": 51,
   "id": "40f5eaf4-a8c1-4aae-9fd6-766bde91ade4",
   "metadata": {},
   "outputs": [
    {
     "name": "stdout",
     "output_type": "stream",
     "text": [
      "chi=3.338156194949211\n"
     ]
    },
    {
     "ename": "AttributeError",
     "evalue": "'DataFrame' object has no attribute 'group'",
     "output_type": "error",
     "traceback": [
      "\u001b[0;31m---------------------------------------------------------------------------\u001b[0m",
      "\u001b[0;31mAttributeError\u001b[0m                            Traceback (most recent call last)",
      "Cell \u001b[0;32mIn[51], line 14\u001b[0m\n\u001b[1;32m     12\u001b[0m g1 \u001b[38;5;241m=\u001b[39m pair[\u001b[38;5;241m0\u001b[39m]\n\u001b[1;32m     13\u001b[0m g2 \u001b[38;5;241m=\u001b[39m pair[\u001b[38;5;241m1\u001b[39m]\n\u001b[0;32m---> 14\u001b[0m diff \u001b[38;5;241m=\u001b[39m \u001b[38;5;28mabs\u001b[39m(df[\u001b[43mdf\u001b[49m\u001b[38;5;241;43m.\u001b[39;49m\u001b[43mgroup\u001b[49m\u001b[38;5;241m==\u001b[39mg1]\u001b[38;5;241m.\u001b[39mp_bad\u001b[38;5;241m.\u001b[39mvalues[\u001b[38;5;241m0\u001b[39m] \u001b[38;5;241m-\u001b[39m df[df\u001b[38;5;241m.\u001b[39mgroup\u001b[38;5;241m==\u001b[39mg2]\u001b[38;5;241m.\u001b[39mp_bad\u001b[38;5;241m.\u001b[39mvalues[\u001b[38;5;241m0\u001b[39m])\n\u001b[1;32m     15\u001b[0m p1 \u001b[38;5;241m=\u001b[39m df[df\u001b[38;5;241m.\u001b[39mgroup\u001b[38;5;241m==\u001b[39mg1]\u001b[38;5;241m.\u001b[39mp_bad\u001b[38;5;241m.\u001b[39mvalues[\u001b[38;5;241m0\u001b[39m]\n\u001b[1;32m     16\u001b[0m n1 \u001b[38;5;241m=\u001b[39m df[df\u001b[38;5;241m.\u001b[39mgroup\u001b[38;5;241m==\u001b[39mg1]\u001b[38;5;241m.\u001b[39mn\u001b[38;5;241m.\u001b[39mvalues[\u001b[38;5;241m0\u001b[39m]\n",
      "File \u001b[0;32m~/myenv/lib/python3.9/site-packages/pandas/core/generic.py:5902\u001b[0m, in \u001b[0;36mNDFrame.__getattr__\u001b[0;34m(self, name)\u001b[0m\n\u001b[1;32m   5895\u001b[0m \u001b[38;5;28;01mif\u001b[39;00m (\n\u001b[1;32m   5896\u001b[0m     name \u001b[38;5;129;01mnot\u001b[39;00m \u001b[38;5;129;01min\u001b[39;00m \u001b[38;5;28mself\u001b[39m\u001b[38;5;241m.\u001b[39m_internal_names_set\n\u001b[1;32m   5897\u001b[0m     \u001b[38;5;129;01mand\u001b[39;00m name \u001b[38;5;129;01mnot\u001b[39;00m \u001b[38;5;129;01min\u001b[39;00m \u001b[38;5;28mself\u001b[39m\u001b[38;5;241m.\u001b[39m_metadata\n\u001b[1;32m   5898\u001b[0m     \u001b[38;5;129;01mand\u001b[39;00m name \u001b[38;5;129;01mnot\u001b[39;00m \u001b[38;5;129;01min\u001b[39;00m \u001b[38;5;28mself\u001b[39m\u001b[38;5;241m.\u001b[39m_accessors\n\u001b[1;32m   5899\u001b[0m     \u001b[38;5;129;01mand\u001b[39;00m \u001b[38;5;28mself\u001b[39m\u001b[38;5;241m.\u001b[39m_info_axis\u001b[38;5;241m.\u001b[39m_can_hold_identifiers_and_holds_name(name)\n\u001b[1;32m   5900\u001b[0m ):\n\u001b[1;32m   5901\u001b[0m     \u001b[38;5;28;01mreturn\u001b[39;00m \u001b[38;5;28mself\u001b[39m[name]\n\u001b[0;32m-> 5902\u001b[0m \u001b[38;5;28;01mreturn\u001b[39;00m \u001b[38;5;28;43mobject\u001b[39;49m\u001b[38;5;241;43m.\u001b[39;49m\u001b[38;5;21;43m__getattribute__\u001b[39;49m\u001b[43m(\u001b[49m\u001b[38;5;28;43mself\u001b[39;49m\u001b[43m,\u001b[49m\u001b[43m \u001b[49m\u001b[43mname\u001b[49m\u001b[43m)\u001b[49m\n",
      "\u001b[0;31mAttributeError\u001b[0m: 'DataFrame' object has no attribute 'group'"
     ]
    }
   ],
   "source": [
    "import math\n",
    "import itertools\n",
    "import scipy.stats\n",
    "\n",
    "degrees_of_freedom = 4\n",
    "chi = math.sqrt(scipy.stats.chi2.ppf(0.975, degrees_of_freedom))\n",
    "print(f'{chi=}')\n",
    "\n",
    "pairs = list(itertools.combinations(treatments, 2))\n",
    "mylist = []\n",
    "for pair in pairs:\n",
    "    g1 = pair[0]\n",
    "    g2 = pair[1]\n",
    "    diff = abs(df[df.group==g1].p_bad.values[0] - df[df.group==g2].p_bad.values[0])\n",
    "    p1 = df[df.group==g1].p_bad.values[0]\n",
    "    n1 = df[df.group==g1].n.values[0]\n",
    "    p2 = df[df.group==g2].p_bad.values[0]\n",
    "    n2 = df[df.group==g2].n.values[0]\n",
    "    diff = abs(p1-p2)\n",
    "    critical_range = chi * math.sqrt(((p1 * (1 - p1)) / n1) + ((p2 * (1 - p2)) / n2)) \n",
    "    if diff > critical_range:\n",
    "        significant = 'yes'\n",
    "    else:\n",
    "        significant = 'no'                \n",
    "    mylist.append({'g1': g1, 'g2': g2, 'diff': diff, 'critical_range': critical_range, 'significant': significant})\n",
    "pd.DataFrame(mylist)"
   ]
  },
  {
   "cell_type": "code",
   "execution_count": null,
   "id": "312b62bd-e0f7-4ac9-abd3-4edfa6d590c4",
   "metadata": {},
   "outputs": [],
   "source": []
  },
  {
   "cell_type": "code",
   "execution_count": null,
   "id": "2e41ff60-3cbd-469e-9c8d-7e1a8a053993",
   "metadata": {},
   "outputs": [],
   "source": []
  }
 ],
 "metadata": {
  "kernelspec": {
   "display_name": "Python 3 (ipykernel)",
   "language": "python",
   "name": "python3"
  },
  "language_info": {
   "codemirror_mode": {
    "name": "ipython",
    "version": 3
   },
   "file_extension": ".py",
   "mimetype": "text/x-python",
   "name": "python",
   "nbconvert_exporter": "python",
   "pygments_lexer": "ipython3",
   "version": "3.9.5"
  }
 },
 "nbformat": 4,
 "nbformat_minor": 5
}
