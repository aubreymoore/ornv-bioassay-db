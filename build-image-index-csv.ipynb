{
 "cells": [
  {
   "cell_type": "code",
   "execution_count": 3,
   "id": "0a5a5172-ff79-42ff-8e00-af199b2a191f",
   "metadata": {},
   "outputs": [],
   "source": [
    "import glob"
   ]
  },
  {
   "cell_type": "code",
   "execution_count": 11,
   "id": "a91a79e8-043c-4657-8cbb-11c72ec4f39a",
   "metadata": {},
   "outputs": [
    {
     "data": {
      "text/plain": [
       "['images/20230831/273.JPG',\n",
       " 'images/20230831/DSC10019.JPG',\n",
       " 'images/20230831/DSC10021.JPG',\n",
       " 'images/20230831/DSC10020.JPG',\n",
       " 'images/20230831/64.JPG',\n",
       " 'images/20230831/DSC10022.JPG',\n",
       " 'images/20230831/DSC10017.JPG',\n",
       " 'images/20230831/20230831_091903.jpg',\n",
       " 'images/20230831/DSC10018.JPG',\n",
       " 'images/20230831/147n.JPG',\n",
       " 'images/20230831/20230831_091804.jpg',\n",
       " 'images/20230830/20230830_130651.jpg',\n",
       " 'images/20230830/20230830_130643.jpg',\n",
       " 'images/20230830/20230830_124854.jpg',\n",
       " 'images/20230830/20230830_131641.jpg',\n",
       " 'images/20230830/20230830_133957.jpg',\n",
       " 'images/20230830/20230830_133444.mp4',\n",
       " 'images/20230830/20230830_133940.jpg',\n",
       " 'images/20230830/20230830_124911.jpg',\n",
       " 'images/20230822/37.jpg',\n",
       " 'images/20230822/20230822_163557.jpg',\n",
       " 'images/20230822/20230822_163534.jpg',\n",
       " 'images/20230901/130.JPG',\n",
       " 'images/20230901/109.JPG',\n",
       " 'images/20230901/41.JPG',\n",
       " 'images/20230901/35.JPG',\n",
       " 'images/20230904/20230904_161422.jpg',\n",
       " 'images/20230904/20230904_171916.jpg',\n",
       " 'images/20230904/20230904_164808.jpg',\n",
       " 'images/20230904/20230904_175016.jpg',\n",
       " 'images/20230904/20230904_173636.jpg',\n",
       " 'images/20230904/20230904_162828.jpg',\n",
       " 'images/20230904/20230904_155741.jpg',\n",
       " 'images/20230904/20230904_170720.jpg',\n",
       " 'images/20230904/20230904_163727.jpg',\n",
       " 'images/20230904/20230904_172836.jpg',\n",
       " 'images/20230825/20230825_151123.jpg',\n",
       " 'images/20230825/196.jpg',\n",
       " 'images/20230825/20230825_150910.jpg',\n",
       " 'images/20230826/DSC10014.JPG',\n",
       " 'images/20230826/49.JPG',\n",
       " 'images/20230826/DSC10016.JPG',\n",
       " 'images/20230826/DSC10015.JPG',\n",
       " 'images/20230815/20230815_144055.jpg',\n",
       " 'images/20230815/20230815_144043.jpg',\n",
       " 'images/20230815/32.jpg',\n",
       " 'images/20230818/20230818_140624.jpg',\n",
       " 'images/20230818/20230818_140634.jpg',\n",
       " 'images/20230816/27.jpg',\n",
       " 'images/20230829/20230829_115130.jpg',\n",
       " 'images/20230829/20230829_120201.jpg',\n",
       " 'images/20230828/20230828_111951.jpg',\n",
       " 'images/20230828/20230828_112926.jpg',\n",
       " 'images/20230828/20230828_113050.jpg',\n",
       " 'images/20230828/20230828_113658.jpg',\n",
       " 'images/20230828/20230828_105045.jpg',\n",
       " 'images/20230828/20230828_105839.jpg',\n",
       " 'images/20230828/20230828_105848.jpg',\n",
       " 'images/20230828/20230828_112006.jpg',\n",
       " 'images/20230828/20230828_110424.jpg',\n",
       " 'images/20230828/20230828_105034.jpg',\n",
       " 'images/20230903/20230903_174845.jpg',\n",
       " 'images/20230903/20230903_173107.jpg',\n",
       " 'images/20230903/20230903_163422.jpg',\n",
       " 'images/20230903/VID_20230903_153223.mp4',\n",
       " 'images/20230903/20230903_175231.jpg',\n",
       " 'images/20230903/20230903_173042.jpg',\n",
       " 'images/20230903/20230903_160515.jpg',\n",
       " 'images/20230903/20230903_174344.jpg',\n",
       " 'images/20230903/20230903_164143.jpg',\n",
       " 'images/20230903/IMG_20230903_153248.jpg',\n",
       " 'images/20230903/20230903_165137.jpg',\n",
       " 'images/20230903/IMG_20230903_153059.jpg',\n",
       " 'images/20230903/20230903_170756.jpg',\n",
       " 'images/20230903/20230903_164540.jpg',\n",
       " 'images/20230903/20230903_165710.jpg',\n",
       " 'images/20230903/20230903_174848.jpg',\n",
       " 'images/20230903/20230903_164137.jpg',\n",
       " 'images/20230903/IMG_20230903_151756.jpg',\n",
       " 'images/20230903/IMG_20230903_151846.jpg',\n",
       " 'images/20230903/20230903_155707.jpg',\n",
       " 'images/20230903/20230903_164122.jpg',\n",
       " 'images/20230903/20230903_162248.jpg',\n",
       " 'images/20230903/20230903_170311.jpg',\n",
       " 'images/20230814/nematode_discovery.mp4',\n",
       " 'images/20230820/20230820_120204.jpg',\n",
       " 'images/20230820/144.jpg',\n",
       " 'images/20230820/20230820_112355.jpg',\n",
       " 'images/20230820/20230820_112427.jpg',\n",
       " 'images/20230820/162.jpg',\n",
       " 'images/20230820/72.jpg',\n",
       " 'images/20230820/20230820_120227.jpg']"
      ]
     },
     "execution_count": 11,
     "metadata": {},
     "output_type": "execute_result"
    }
   ],
   "source": [
    "file_list = glob.glob('images/*/*', recursive=True)"
   ]
  },
  {
   "cell_type": "code",
   "execution_count": 16,
   "id": "4defa754-d741-420d-9135-9cfc7ecf06f2",
   "metadata": {},
   "outputs": [],
   "source": [
    "s = 'filename,sn\\n'\n",
    "for filename in file_list:\n",
    "    s += f'{filename},\\n'\n",
    "# print(s)\n",
    "\n",
    "with open('image_index.csv', 'w') as f:\n",
    "    f.write(s)"
   ]
  },
  {
   "cell_type": "code",
   "execution_count": null,
   "id": "563bc8a2-9a83-4e0b-b036-052fda6d0f6c",
   "metadata": {},
   "outputs": [],
   "source": []
  }
 ],
 "metadata": {
  "kernelspec": {
   "display_name": "Python 3",
   "language": "python",
   "name": "python3"
  },
  "language_info": {
   "codemirror_mode": {
    "name": "ipython",
    "version": 3
   },
   "file_extension": ".py",
   "mimetype": "text/x-python",
   "name": "python",
   "nbconvert_exporter": "python",
   "pygments_lexer": "ipython3",
   "version": "3.8.10"
  }
 },
 "nbformat": 4,
 "nbformat_minor": 5
}
